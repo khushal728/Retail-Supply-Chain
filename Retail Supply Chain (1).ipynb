{
 "cells": [
  {
   "cell_type": "code",
   "execution_count": 3,
   "id": "8493eb00-76ea-4648-8ea1-a9f519bf3663",
   "metadata": {},
   "outputs": [],
   "source": [
    "# Load the dataset (update the file path if needed)\n",
    "file_path = 'Retail_Supply_Chain_Data_TBC.csv'\n",
    "df = pd.read_csv(file_path)\n",
    "\n"
   ]
  },
  {
   "cell_type": "code",
   "execution_count": 4,
   "id": "42b66899-700a-4cb4-bf44-153a043a45e5",
   "metadata": {},
   "outputs": [
    {
     "name": "stdout",
     "output_type": "stream",
     "text": [
      "First 5 rows of the dataset:\n",
      "       Date Store ID Product ID     Category Region  Inventory Level  \\\n",
      "0  1/1/2022     S001      P0001    Groceries  North              231   \n",
      "1  1/1/2022     S001      P0002         Toys  South              204   \n",
      "2  1/1/2022     S001      P0003         Toys   West              102   \n",
      "3  1/1/2022     S001      P0004         Toys  North              469   \n",
      "4  1/1/2022     S001      P0005  Electronics   East              166   \n",
      "\n",
      "   Units Sold  Units Ordered  Demand Forecast  Price  Discount  \\\n",
      "0         127             55           135.47  33.50        20   \n",
      "1         150             66           144.04  63.01        20   \n",
      "2          65             51            74.02  27.99        10   \n",
      "3          61            164            62.18  32.72        10   \n",
      "4          14            135             9.26  73.64         0   \n",
      "\n",
      "  Weather Condition  Holiday/Promotion  Competitor Pricing Seasonality  \n",
      "0             Rainy                  0               29.69      Autumn  \n",
      "1             Sunny                  0               66.16      Autumn  \n",
      "2             Sunny                  1               31.32      Summer  \n",
      "3            Cloudy                  1               34.74      Autumn  \n",
      "4             Sunny                  0               68.95      Summer  \n"
     ]
    }
   ],
   "source": [
    "# Display the first few rows\n",
    "print(\"First 5 rows of the dataset:\")\n",
    "print(df.head())\n",
    "\n"
   ]
  },
  {
   "cell_type": "code",
   "execution_count": 5,
   "id": "2d02ee2e-9046-45f5-ac91-c5bee5b4c492",
   "metadata": {},
   "outputs": [
    {
     "name": "stdout",
     "output_type": "stream",
     "text": [
      "\n",
      "Missing values in each column:\n",
      "Date                     0\n",
      "Store ID                 0\n",
      "Product ID               0\n",
      "Category                 0\n",
      "Region                   0\n",
      "Inventory Level          0\n",
      "Units Sold               0\n",
      "Units Ordered            0\n",
      "Demand Forecast       2213\n",
      "Price                 3679\n",
      "Discount                 0\n",
      "Weather Condition        0\n",
      "Holiday/Promotion        0\n",
      "Competitor Pricing       0\n",
      "Seasonality              0\n",
      "dtype: int64\n",
      "\n",
      "Number of duplicate rows: 282\n"
     ]
    }
   ],
   "source": [
    "# Check for missing values\n",
    "print(\"\\nMissing values in each column:\")\n",
    "print(df.isnull().sum())\n",
    "\n",
    "# Check for duplicate rows\n",
    "duplicate_rows = df.duplicated()\n",
    "num_duplicates = duplicate_rows.sum()\n",
    "print(f\"\\nNumber of duplicate rows: {num_duplicates}\")\n"
   ]
  },
  {
   "cell_type": "code",
   "execution_count": 6,
   "id": "2b9f0205-efae-4d43-8e7a-99af1c4305b2",
   "metadata": {},
   "outputs": [
    {
     "name": "stdout",
     "output_type": "stream",
     "text": [
      "\n",
      "Missing values in each column:\n",
      "Date                     0\n",
      "Store ID                 0\n",
      "Product ID               0\n",
      "Category                 0\n",
      "Region                   0\n",
      "Inventory Level          0\n",
      "Units Sold               0\n",
      "Units Ordered            0\n",
      "Demand Forecast       2213\n",
      "Price                 3679\n",
      "Discount                 0\n",
      "Weather Condition        0\n",
      "Holiday/Promotion        0\n",
      "Competitor Pricing       0\n",
      "Seasonality              0\n",
      "dtype: int64\n",
      "\n",
      "First 5 rows of Demand Forecast in ascending order:\n",
      "59385    0.01\n",
      "68261    0.01\n",
      "33100    0.02\n",
      "1398     0.03\n",
      "72890    0.03\n",
      "Name: Demand Forecast, dtype: float64\n",
      "\n",
      "Number of duplicate rows: 282\n"
     ]
    }
   ],
   "source": [
    "# Check for missing values\n",
    "print(\"\\nMissing values in each column:\")\n",
    "print(df.isnull().sum())\n",
    "\n",
    "# Handle missing values in the Price column by replacing with the mean\n",
    "df['Price'] = df['Price'].fillna(df['Price'].mean())\n",
    "\n",
    "# Handle negative values in the Demand Forecast column by taking absolute values\n",
    "df['Demand Forecast'] = df['Demand Forecast'].abs()\n",
    "\n",
    "# Return the Demand Forecast column in ascending order for the first 5 rows\n",
    "print(\"\\nFirst 5 rows of Demand Forecast in ascending order:\")\n",
    "print(df['Demand Forecast'].sort_values().head())\n",
    "\n",
    "# Handle missing values in the Demand Forecast column by replacing with the median\n",
    "df['Demand Forecast'] = df['Demand Forecast'].fillna(df['Demand Forecast'].median())\n",
    "\n",
    "# Check for duplicate rows\n",
    "num_duplicates = df.duplicated().sum()\n",
    "print(f\"\\nNumber of duplicate rows: {num_duplicates}\")\n"
   ]
  },
  {
   "cell_type": "code",
   "execution_count": 16,
   "id": "3d7000fe-3086-4657-9aca-8057314c69df",
   "metadata": {},
   "outputs": [
    {
     "name": "stdout",
     "output_type": "stream",
     "text": [
      "\n",
      "Duplicate rows removed. Updated dataset:\n",
      "        Date Store ID Product ID     Category Region  Inventory Level  \\\n",
      "0 2022-01-01     S001      P0001    Groceries  North              231   \n",
      "1 2022-01-01     S001      P0002         Toys  South              204   \n",
      "2 2022-01-01     S001      P0003         Toys   West              102   \n",
      "3 2022-01-01     S001      P0004         Toys  North              469   \n",
      "4 2022-01-01     S001      P0005  Electronics   East              166   \n",
      "\n",
      "   Units Sold  Units Ordered  Demand Forecast  Price  Discount  \\\n",
      "0         127             55           135.47  33.50        20   \n",
      "1         150             66           144.04  63.01        20   \n",
      "2          65             51            74.02  27.99        10   \n",
      "3          61            164            62.18  32.72        10   \n",
      "4          14            135             9.26  73.64         0   \n",
      "\n",
      "  Weather Condition  Holiday/Promotion  Competitor Pricing Seasonality  \n",
      "0             Rainy                  0               29.69      Autumn  \n",
      "1             Sunny                  0               66.16      Autumn  \n",
      "2             Sunny                  1               31.32      Summer  \n",
      "3            Cloudy                  1               34.74      Autumn  \n",
      "4             Sunny                  0               68.95      Summer  \n"
     ]
    }
   ],
   "source": [
    "# Remove duplicate rows, keeping only the first occurrence\n",
    "df = df.drop_duplicates()\n",
    "print(\"\\nDuplicate rows removed. Updated dataset:\")\n",
    "print(df.head())\n",
    "\n",
    "\n"
   ]
  },
  {
   "cell_type": "code",
   "execution_count": 17,
   "id": "833e3c6b-29dd-4f0a-bbd5-e9a748ef1f8a",
   "metadata": {},
   "outputs": [
    {
     "name": "stdout",
     "output_type": "stream",
     "text": [
      "\n",
      "Data types of all columns:\n",
      "Date                  datetime64[ns]\n",
      "Store ID                      object\n",
      "Product ID                    object\n",
      "Category                      object\n",
      "Region                        object\n",
      "Inventory Level                int32\n",
      "Units Sold                     int64\n",
      "Units Ordered                  int64\n",
      "Demand Forecast              float64\n",
      "Price                        float64\n",
      "Discount                       int64\n",
      "Weather Condition             object\n",
      "Holiday/Promotion              int64\n",
      "Competitor Pricing           float64\n",
      "Seasonality                   object\n",
      "dtype: object\n"
     ]
    }
   ],
   "source": [
    "# Check and display data types of all columns\n",
    "print(\"\\nData types of all columns:\")\n",
    "print(df.dtypes)\n",
    "\n"
   ]
  },
  {
   "cell_type": "code",
   "execution_count": 18,
   "id": "7de86925-6fec-43b4-a349-97665135b377",
   "metadata": {},
   "outputs": [
    {
     "name": "stdout",
     "output_type": "stream",
     "text": [
      "\n",
      "Updated data types of all columns:\n",
      "Date                  datetime64[ns]\n",
      "Store ID                      object\n",
      "Product ID                    object\n",
      "Category                      object\n",
      "Region                        object\n",
      "Inventory Level                int32\n",
      "Units Sold                     int64\n",
      "Units Ordered                  int64\n",
      "Demand Forecast              float64\n",
      "Price                        float64\n",
      "Discount                       int64\n",
      "Weather Condition             object\n",
      "Holiday/Promotion              int64\n",
      "Competitor Pricing           float64\n",
      "Seasonality                   object\n",
      "dtype: object\n"
     ]
    }
   ],
   "source": [
    "# Convert 'Date' column to datetime format\n",
    "df['Date'] = pd.to_datetime(df['Date'], errors='coerce')\n",
    "\n",
    "# Ensure 'Inventory Level' is an integer\n",
    "df['Inventory Level'] = df['Inventory Level'].fillna(0).astype(int)\n",
    "\n",
    "# Display updated data types\n",
    "print(\"\\nUpdated data types of all columns:\")\n",
    "print(df.dtypes)"
   ]
  },
  {
   "cell_type": "code",
   "execution_count": 14,
   "id": "8fd0df0b-2f14-4ca2-92f6-6371a34e56d2",
   "metadata": {},
   "outputs": [
    {
     "name": "stdout",
     "output_type": "stream",
     "text": [
      "\n",
      "Updated data types of all columns:\n",
      "Date                  datetime64[ns]\n",
      "Store ID                      object\n",
      "Product ID                    object\n",
      "Category                      object\n",
      "Region                        object\n",
      "Inventory Level                int32\n",
      "Units Sold                     int64\n",
      "Units Ordered                  int64\n",
      "Demand Forecast              float64\n",
      "Price                        float64\n",
      "Discount                       int64\n",
      "Weather Condition             object\n",
      "Holiday/Promotion              int64\n",
      "Competitor Pricing           float64\n",
      "Seasonality                   object\n",
      "dtype: object\n"
     ]
    }
   ],
   "source": [
    "# Convert 'Date' column to datetime format\n",
    "df['Date'] = pd.to_datetime(df['Date'], errors='coerce')\n",
    "\n",
    "# Ensure 'Inventory Level' is an integer\n",
    "df['Inventory Level'] = df['Inventory Level'].fillna(0).astype(int)\n",
    "\n",
    "# Display updated data types\n",
    "print(\"\\nUpdated data types of all columns:\")\n",
    "print(df.dtypes)\n"
   ]
  },
  {
   "cell_type": "code",
   "execution_count": 20,
   "id": "f8492b18-c70a-47ca-a302-0ce619bebc98",
   "metadata": {},
   "outputs": [
    {
     "name": "stdout",
     "output_type": "stream",
     "text": [
      "\n",
      "Negative Inventory Level Values:\n",
      "Empty DataFrame\n",
      "Columns: [Date, Store ID, Product ID, Category, Region, Inventory Level, Units Sold, Units Ordered, Demand Forecast, Price, Discount, Weather Condition, Holiday/Promotion, Competitor Pricing, Seasonality]\n",
      "Index: []\n",
      "\n",
      "Updated data types of all columns:\n",
      "Date                   object\n",
      "Store ID               object\n",
      "Product ID             object\n",
      "Category               object\n",
      "Region                 object\n",
      "Inventory Level         int32\n",
      "Units Sold              int64\n",
      "Units Ordered           int64\n",
      "Demand Forecast       float64\n",
      "Price                 float64\n",
      "Discount                int64\n",
      "Weather Condition      object\n",
      "Holiday/Promotion       int64\n",
      "Competitor Pricing    float64\n",
      "Seasonality            object\n",
      "dtype: object\n"
     ]
    }
   ],
   "source": [
    "# Convert 'Date' column to datetime format and standardize to YYYY-MM-DD\n",
    "df['Date'] = pd.to_datetime(df['Date'], errors='coerce').dt.strftime('%Y-%m-%d')\n",
    "# Ensure 'Inventory Level' is an integer\n",
    "df['Inventory Level'] = df['Inventory Level'].fillna(0).astype(int)\n",
    "\n",
    "# Clean string columns: remove leading/trailing spaces and convert to sentence case\n",
    "for col in df.select_dtypes(include=['object']).columns:\n",
    "    df[col] = df[col].str.strip().str.capitalize()\n",
    "\n",
    "# Detect and handle outliers using IQR method\n",
    "for col in df.select_dtypes(include=[np.number]).columns:\n",
    "    Q1 = df[col].quantile(0.25)\n",
    "    Q3 = df[col].quantile(0.75)\n",
    "    IQR = Q3 - Q1\n",
    "    lower_bound = Q1 - 1.5 * IQR\n",
    "    upper_bound = Q3 + 1.5 * IQR\n",
    "    df = df[(df[col] >= lower_bound) & (df[col] <= upper_bound)]\n",
    "\n",
    "# Detect and handle outliers using Z-score method\n",
    "df = df[(np.abs(stats.zscore(df.select_dtypes(include=[np.number]))) < 3).all(axis=1)]\n",
    "\n",
    "# Detect negative values and logical inconsistencies in sales and inventory data\n",
    "if 'Sales' in df.columns:\n",
    "    negative_sales = df[df['Sales'] < 0]\n",
    "    print(\"\\nNegative Sales Values:\")\n",
    "    print(negative_sales)\n",
    "    df['Sales'] = df['Sales'].abs()\n",
    "\n",
    "if 'Inventory Level' in df.columns:\n",
    "    negative_inventory = df[df['Inventory Level'] < 0]\n",
    "    print(\"\\nNegative Inventory Level Values:\")\n",
    "    print(negative_inventory)\n",
    "    df['Inventory Level'] = df['Inventory Level'].abs()\n",
    "\n",
    "if 'Sales' in df.columns and 'Inventory Level' in df.columns:\n",
    "    inconsistent_data = df[df['Sales'] > df['Inventory Level']]\n",
    "    print(\"\\nLogical inconsistencies (Sales > Inventory Level):\")\n",
    "    print(inconsistent_data)\n",
    "    df.loc[df['Sales'] > df['Inventory Level'], 'Sales'] = df['Inventory Level']\n",
    "\n",
    "# Display updated data types\n",
    "print(\"\\nUpdated data types of all columns:\")\n",
    "print(df.dtypes)\n"
   ]
  },
  {
   "cell_type": "code",
   "execution_count": 21,
   "id": "422a7ba4-ae91-4b0b-a70a-2cc4bc7f0aad",
   "metadata": {},
   "outputs": [
    {
     "name": "stdout",
     "output_type": "stream",
     "text": [
      "\n",
      "Cleaned DataFrame:\n",
      "         Date Store ID Product ID     Category Region  Inventory Level  \\\n",
      "0  2022-01-01     S001      P0001    Groceries  North              231   \n",
      "1  2022-01-01     S001      P0002         Toys  South              204   \n",
      "2  2022-01-01     S001      P0003         Toys   West              102   \n",
      "3  2022-01-01     S001      P0004         Toys  North              469   \n",
      "4  2022-01-01     S001      P0005  Electronics   East              166   \n",
      "\n",
      "   Units Sold  Units Ordered  Demand Forecast  Price  Discount  \\\n",
      "0         127             55           135.47  33.50        20   \n",
      "1         150             66           144.04  63.01        20   \n",
      "2          65             51            74.02  27.99        10   \n",
      "3          61            164            62.18  32.72        10   \n",
      "4          14            135             9.26  73.64         0   \n",
      "\n",
      "  Weather Condition  Holiday/Promotion  Competitor Pricing Seasonality  \n",
      "0             Rainy                  0               29.69      Autumn  \n",
      "1             Sunny                  0               66.16      Autumn  \n",
      "2             Sunny                  1               31.32      Summer  \n",
      "3            Cloudy                  1               34.74      Autumn  \n",
      "4             Sunny                  0               68.95      Summer  \n"
     ]
    }
   ],
   "source": [
    "# Display cleaned dataset\n",
    "print(\"\\nCleaned DataFrame:\")\n",
    "print(df.head())\n"
   ]
  },
  {
   "cell_type": "code",
   "execution_count": 4,
   "id": "aecca832-5637-4cea-8a68-3371d3ea20dc",
   "metadata": {},
   "outputs": [],
   "source": [
    "import pandas as pd\n",
    "import numpy as np\n",
    "from scipy import stats\n",
    "\n"
   ]
  },
  {
   "cell_type": "code",
   "execution_count": 5,
   "id": "70d5b643-b325-45b3-8473-54f6546c8f6b",
   "metadata": {},
   "outputs": [
    {
     "name": "stdout",
     "output_type": "stream",
     "text": [
      "First 5 rows of the dataset:\n",
      "       Date Store ID Product ID     Category Region  Inventory Level  \\\n",
      "0  1/1/2022     S001      P0001    Groceries  North              231   \n",
      "1  1/1/2022     S001      P0002         Toys  South              204   \n",
      "2  1/1/2022     S001      P0003         Toys   West              102   \n",
      "3  1/1/2022     S001      P0004         Toys  North              469   \n",
      "4  1/1/2022     S001      P0005  Electronics   East              166   \n",
      "\n",
      "   Units Sold  Units Ordered  Demand Forecast  Price  Discount  \\\n",
      "0         127             55           135.47  33.50        20   \n",
      "1         150             66           144.04  63.01        20   \n",
      "2          65             51            74.02  27.99        10   \n",
      "3          61            164            62.18  32.72        10   \n",
      "4          14            135             9.26  73.64         0   \n",
      "\n",
      "  Weather Condition  Holiday/Promotion  Competitor Pricing Seasonality  \n",
      "0             Rainy                  0               29.69      Autumn  \n",
      "1             Sunny                  0               66.16      Autumn  \n",
      "2             Sunny                  1               31.32      Summer  \n",
      "3            Cloudy                  1               34.74      Autumn  \n",
      "4             Sunny                  0               68.95      Summer  \n"
     ]
    }
   ],
   "source": [
    "\n",
    "# Load the dataset\n",
    "file_path = 'Retail_Supply_Chain_Data_TBC.csv'\n",
    "df = pd.read_csv(file_path)\n",
    "\n",
    "# Display the first few rows\n",
    "print(\"First 5 rows of the dataset:\")\n",
    "print(df.head())\n",
    "\n"
   ]
  },
  {
   "cell_type": "code",
   "execution_count": 6,
   "id": "aee1e3ab-bab3-4b5d-9cca-d4ecd218cc8a",
   "metadata": {},
   "outputs": [
    {
     "name": "stdout",
     "output_type": "stream",
     "text": [
      "\n",
      "Missing values in each column:\n",
      "Date                     0\n",
      "Store ID                 0\n",
      "Product ID               0\n",
      "Category                 0\n",
      "Region                   0\n",
      "Inventory Level          0\n",
      "Units Sold               0\n",
      "Units Ordered            0\n",
      "Demand Forecast       2213\n",
      "Price                 3679\n",
      "Discount                 0\n",
      "Weather Condition        0\n",
      "Holiday/Promotion        0\n",
      "Competitor Pricing       0\n",
      "Seasonality              0\n",
      "dtype: int64\n"
     ]
    }
   ],
   "source": [
    "# Check for missing values\n",
    "print(\"\\nMissing values in each column:\")\n",
    "print(df.isnull().sum())\n",
    "\n"
   ]
  },
  {
   "cell_type": "code",
   "execution_count": 7,
   "id": "ee760213-1fa0-4ded-b1f3-2300a025b40c",
   "metadata": {},
   "outputs": [
    {
     "name": "stdout",
     "output_type": "stream",
     "text": [
      "\n",
      "First 5 rows of Demand Forecast in ascending order:\n",
      "59385    0.01\n",
      "68261    0.01\n",
      "33100    0.02\n",
      "1398     0.03\n",
      "72890    0.03\n",
      "Name: Demand Forecast, dtype: float64\n"
     ]
    }
   ],
   "source": [
    "# Handle missing values in the Price column by replacing with the mean\n",
    "df['Price'] = df['Price'].fillna(df['Price'].mean())\n",
    "\n",
    "# Handle negative values in the Demand Forecast column by taking absolute values\n",
    "df['Demand Forecast'] = df['Demand Forecast'].abs()\n",
    "\n",
    "# Return the Demand Forecast column in ascending order for the first 5 rows\n",
    "print(\"\\nFirst 5 rows of Demand Forecast in ascending order:\")\n",
    "print(df['Demand Forecast'].sort_values().head())\n",
    "\n"
   ]
  },
  {
   "cell_type": "code",
   "execution_count": 8,
   "id": "ab21a516-d48c-4d6a-952f-d869c7a3778f",
   "metadata": {},
   "outputs": [
    {
     "name": "stdout",
     "output_type": "stream",
     "text": [
      "\n",
      "Number of duplicate rows: 282\n"
     ]
    }
   ],
   "source": [
    "# Handle missing values in the Demand Forecast column by replacing with the median\n",
    "df['Demand Forecast'] = df['Demand Forecast'].fillna(df['Demand Forecast'].median())\n",
    "\n",
    "# Check for duplicate rows\n",
    "num_duplicates = df.duplicated().sum()\n",
    "print(f\"\\nNumber of duplicate rows: {num_duplicates}\")\n",
    "\n"
   ]
  },
  {
   "cell_type": "code",
   "execution_count": 9,
   "id": "0684b927-8865-4a71-93ba-e8a23f142061",
   "metadata": {},
   "outputs": [
    {
     "name": "stdout",
     "output_type": "stream",
     "text": [
      "\n",
      "Duplicate rows removed. Updated dataset:\n",
      "       Date Store ID Product ID     Category Region  Inventory Level  \\\n",
      "0  1/1/2022     S001      P0001    Groceries  North              231   \n",
      "1  1/1/2022     S001      P0002         Toys  South              204   \n",
      "2  1/1/2022     S001      P0003         Toys   West              102   \n",
      "3  1/1/2022     S001      P0004         Toys  North              469   \n",
      "4  1/1/2022     S001      P0005  Electronics   East              166   \n",
      "\n",
      "   Units Sold  Units Ordered  Demand Forecast  Price  Discount  \\\n",
      "0         127             55           135.47  33.50        20   \n",
      "1         150             66           144.04  63.01        20   \n",
      "2          65             51            74.02  27.99        10   \n",
      "3          61            164            62.18  32.72        10   \n",
      "4          14            135             9.26  73.64         0   \n",
      "\n",
      "  Weather Condition  Holiday/Promotion  Competitor Pricing Seasonality  \n",
      "0             Rainy                  0               29.69      Autumn  \n",
      "1             Sunny                  0               66.16      Autumn  \n",
      "2             Sunny                  1               31.32      Summer  \n",
      "3            Cloudy                  1               34.74      Autumn  \n",
      "4             Sunny                  0               68.95      Summer  \n"
     ]
    }
   ],
   "source": [
    "# Remove duplicate rows, keeping only the first occurrence\n",
    "df = df.drop_duplicates()\n",
    "\n",
    "# Verify row count after removing duplicates\n",
    "expected_rows = 73318\n",
    "if len(df) != expected_rows:\n",
    "    print(f\"\\nWarning: Expected {expected_rows} rows after dropping duplicates, but got {len(df)} rows.\")\n",
    "\n",
    "print(\"\\nDuplicate rows removed. Updated dataset:\")\n",
    "print(df.head())\n",
    "\n"
   ]
  },
  {
   "cell_type": "code",
   "execution_count": 10,
   "id": "8943edb4-f907-406f-99a6-c98fe28dcea9",
   "metadata": {},
   "outputs": [
    {
     "name": "stdout",
     "output_type": "stream",
     "text": [
      "\n",
      "Data types of all columns before conversion:\n",
      "Date                   object\n",
      "Store ID               object\n",
      "Product ID             object\n",
      "Category               object\n",
      "Region                 object\n",
      "Inventory Level         int64\n",
      "Units Sold              int64\n",
      "Units Ordered           int64\n",
      "Demand Forecast       float64\n",
      "Price                 float64\n",
      "Discount                int64\n",
      "Weather Condition      object\n",
      "Holiday/Promotion       int64\n",
      "Competitor Pricing    float64\n",
      "Seasonality            object\n",
      "dtype: object\n"
     ]
    }
   ],
   "source": [
    "# Check and display data types of all columns\n",
    "print(\"\\nData types of all columns before conversion:\")\n",
    "print(df.dtypes)\n",
    "\n"
   ]
  },
  {
   "cell_type": "code",
   "execution_count": 12,
   "id": "9aaa315b-4dc7-4506-b6f5-8678df0a2d1b",
   "metadata": {},
   "outputs": [
    {
     "name": "stdout",
     "output_type": "stream",
     "text": [
      "\n",
      "Number of non-null dates after conversion: 57442\n"
     ]
    }
   ],
   "source": [
    "# Convert 'Date' column to datetime format and standardize to YYYY-MM-DD\n",
    "df['Date'] = pd.to_datetime(df['Date'], errors='coerce')\n",
    "print(\"\\nNumber of non-null dates after conversion:\", df['Date'].notnull().sum())\n",
    "\n",
    "# Ensure 'Inventory Level' is an integer\n",
    "df['Inventory Level'] = df['Inventory Level'].fillna(0).astype(int)\n",
    "\n",
    "# Clean string columns: remove leading/trailing spaces and convert to sentence case\n",
    "for col in df.select_dtypes(include=['object']).columns:\n",
    "    df[col] = df[col].str.strip().str.capitalize()\n",
    "\n",
    "# Detect and handle outliers using IQR method\n",
    "for col in df.select_dtypes(include=[np.number]).columns:\n",
    "    Q1 = df[col].quantile(0.25)\n",
    "    Q3 = df[col].quantile(0.75)\n",
    "    IQR = Q3 - Q1\n",
    "    lower_bound = Q1 - 1.5 * IQR\n",
    "    upper_bound = Q3 + 1.5 * IQR\n",
    "    df = df[(df[col] >= lower_bound) & (df[col] <= upper_bound)]\n",
    "\n",
    "# Detect and handle outliers using Z-score method\n",
    "df = df[(np.abs(stats.zscore(df.select_dtypes(include=[np.number]))) < 3).all(axis=1)]\n",
    "\n",
    "\n",
    "\n",
    "# Detect negative values and logical inconsistencies in sales and inventory data\n",
    "if 'Sales' in df.columns:\n",
    "    negative_sales = df[df['Sales'] < 0]\n",
    "    print(\"\\nNegative Sales Values:\")\n",
    "    print(negative_sales)\n",
    "    df['Sales'] = df['Sales'].abs()\n",
    "\n",
    "\n"
   ]
  },
  {
   "cell_type": "code",
   "execution_count": 13,
   "id": "55e7549b-68d8-407d-bc44-00c0eaa01d3a",
   "metadata": {},
   "outputs": [
    {
     "name": "stdout",
     "output_type": "stream",
     "text": [
      "\n",
      "Negative Inventory Level Values:\n",
      "Empty DataFrame\n",
      "Columns: [Date, Store ID, Product ID, Category, Region, Inventory Level, Units Sold, Units Ordered, Demand Forecast, Price, Discount, Weather Condition, Holiday/Promotion, Competitor Pricing, Seasonality]\n",
      "Index: []\n"
     ]
    }
   ],
   "source": [
    "if 'Inventory Level' in df.columns:\n",
    "    negative_inventory = df[df['Inventory Level'] < 0]\n",
    "    print(\"\\nNegative Inventory Level Values:\")\n",
    "    print(negative_inventory)\n",
    "    df['Inventory Level'] = df['Inventory Level'].abs()\n",
    "\n",
    "\n"
   ]
  },
  {
   "cell_type": "code",
   "execution_count": 15,
   "id": "ca84c8cb-242a-45fb-ac84-e7bba75cb016",
   "metadata": {},
   "outputs": [],
   "source": [
    "if 'Sales' in df.columns and 'Inventory Level' in df.columns:\n",
    "    inconsistent_data = df[df['Sales'] > df['Inventory Level']]\n",
    "    print(\"\\nLogical inconsistencies (Sales > Inventory Level):\")\n",
    "    print(inconsistent_data)\n",
    "    df.loc[df['Sales'] > df['Inventory Level'], 'Sales'] = df['Inventory Level']"
   ]
  },
  {
   "cell_type": "code",
   "execution_count": 17,
   "id": "f3b62b86-5f56-4215-bff0-8b8194e61115",
   "metadata": {},
   "outputs": [
    {
     "name": "stdout",
     "output_type": "stream",
     "text": [
      "\n",
      "Updated data types of all columns:\n",
      "Date                  datetime64[ns]\n",
      "Store ID                      object\n",
      "Product ID                    object\n",
      "Category                      object\n",
      "Region                        object\n",
      "Inventory Level                int32\n",
      "Units Sold                     int64\n",
      "Units Ordered                  int64\n",
      "Demand Forecast              float64\n",
      "Price                        float64\n",
      "Discount                       int64\n",
      "Weather Condition             object\n",
      "Holiday/Promotion              int64\n",
      "Competitor Pricing           float64\n",
      "Seasonality                   object\n",
      "dtype: object\n"
     ]
    }
   ],
   "source": [
    "# Display updated data types\n",
    "print(\"\\nUpdated data types of all columns:\")\n",
    "print(df.dtypes)\n",
    "\n"
   ]
  },
  {
   "cell_type": "code",
   "execution_count": 18,
   "id": "a1d74121-e1e0-41e1-a8c1-e0f140eb5af8",
   "metadata": {},
   "outputs": [
    {
     "name": "stdout",
     "output_type": "stream",
     "text": [
      "\n",
      "Cleaned DataFrame:\n",
      "        Date Store ID Product ID     Category Region  Inventory Level  \\\n",
      "0 2022-01-01     S001      P0001    Groceries  North              231   \n",
      "1 2022-01-01     S001      P0002         Toys  South              204   \n",
      "2 2022-01-01     S001      P0003         Toys   West              102   \n",
      "3 2022-01-01     S001      P0004         Toys  North              469   \n",
      "4 2022-01-01     S001      P0005  Electronics   East              166   \n",
      "\n",
      "   Units Sold  Units Ordered  Demand Forecast  Price  Discount  \\\n",
      "0         127             55           135.47  33.50        20   \n",
      "1         150             66           144.04  63.01        20   \n",
      "2          65             51            74.02  27.99        10   \n",
      "3          61            164            62.18  32.72        10   \n",
      "4          14            135             9.26  73.64         0   \n",
      "\n",
      "  Weather Condition  Holiday/Promotion  Competitor Pricing Seasonality  \n",
      "0             Rainy                  0               29.69      Autumn  \n",
      "1             Sunny                  0               66.16      Autumn  \n",
      "2             Sunny                  1               31.32      Summer  \n",
      "3            Cloudy                  1               34.74      Autumn  \n",
      "4             Sunny                  0               68.95      Summer  \n"
     ]
    }
   ],
   "source": [
    "# Display cleaned dataset\n",
    "print(\"\\nCleaned DataFrame:\")\n",
    "print(df.head())\n"
   ]
  },
  {
   "cell_type": "code",
   "execution_count": 19,
   "id": "5cb4b839-69a5-4a5e-afaa-ec6168ee3c6d",
   "metadata": {},
   "outputs": [
    {
     "name": "stdout",
     "output_type": "stream",
     "text": [
      "\n",
      "Cleaned dataset saved successfully.\n"
     ]
    }
   ],
   "source": [
    "# Save the cleaned dataset\n",
    "df.to_csv('Cleaned_Retail_Supply_Chain_Data.csv', index=False)\n",
    "print(\"\\nCleaned dataset saved successfully.\")\n"
   ]
  },
  {
   "cell_type": "code",
   "execution_count": null,
   "id": "541e09e5-7cb1-48ef-97ae-cf7fed066840",
   "metadata": {},
   "outputs": [],
   "source": []
  }
 ],
 "metadata": {
  "kernelspec": {
   "display_name": "Python 3 (ipykernel)",
   "language": "python",
   "name": "python3"
  },
  "language_info": {
   "codemirror_mode": {
    "name": "ipython",
    "version": 3
   },
   "file_extension": ".py",
   "mimetype": "text/x-python",
   "name": "python",
   "nbconvert_exporter": "python",
   "pygments_lexer": "ipython3",
   "version": "3.12.2"
  }
 },
 "nbformat": 4,
 "nbformat_minor": 5
}
