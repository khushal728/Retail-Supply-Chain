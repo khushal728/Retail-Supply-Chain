{
  "nbformat": 4,
  "nbformat_minor": 0,
  "metadata": {
    "colab": {
      "provenance": [],
      "toc_visible": true
    },
    "kernelspec": {
      "name": "python3",
      "display_name": "Python 3"
    },
    "language_info": {
      "name": "python"
    }
  },
  "cells": [
    {
      "cell_type": "code",
      "execution_count": 16,
      "metadata": {
        "colab": {
          "base_uri": "https://localhost:8080/",
          "height": 73
        },
        "id": "luuEd9zJ4Ou8",
        "outputId": "db1b07a2-61c2-4ebc-fbb6-bf314fd5522a"
      },
      "outputs": [
        {
          "output_type": "display_data",
          "data": {
            "text/plain": [
              "<IPython.core.display.HTML object>"
            ],
            "text/html": [
              "\n",
              "     <input type=\"file\" id=\"files-a5812a2e-f082-41cf-b02d-1b6d14028e4a\" name=\"files[]\" multiple disabled\n",
              "        style=\"border:none\" />\n",
              "     <output id=\"result-a5812a2e-f082-41cf-b02d-1b6d14028e4a\">\n",
              "      Upload widget is only available when the cell has been executed in the\n",
              "      current browser session. Please rerun this cell to enable.\n",
              "      </output>\n",
              "      <script>// Copyright 2017 Google LLC\n",
              "//\n",
              "// Licensed under the Apache License, Version 2.0 (the \"License\");\n",
              "// you may not use this file except in compliance with the License.\n",
              "// You may obtain a copy of the License at\n",
              "//\n",
              "//      http://www.apache.org/licenses/LICENSE-2.0\n",
              "//\n",
              "// Unless required by applicable law or agreed to in writing, software\n",
              "// distributed under the License is distributed on an \"AS IS\" BASIS,\n",
              "// WITHOUT WARRANTIES OR CONDITIONS OF ANY KIND, either express or implied.\n",
              "// See the License for the specific language governing permissions and\n",
              "// limitations under the License.\n",
              "\n",
              "/**\n",
              " * @fileoverview Helpers for google.colab Python module.\n",
              " */\n",
              "(function(scope) {\n",
              "function span(text, styleAttributes = {}) {\n",
              "  const element = document.createElement('span');\n",
              "  element.textContent = text;\n",
              "  for (const key of Object.keys(styleAttributes)) {\n",
              "    element.style[key] = styleAttributes[key];\n",
              "  }\n",
              "  return element;\n",
              "}\n",
              "\n",
              "// Max number of bytes which will be uploaded at a time.\n",
              "const MAX_PAYLOAD_SIZE = 100 * 1024;\n",
              "\n",
              "function _uploadFiles(inputId, outputId) {\n",
              "  const steps = uploadFilesStep(inputId, outputId);\n",
              "  const outputElement = document.getElementById(outputId);\n",
              "  // Cache steps on the outputElement to make it available for the next call\n",
              "  // to uploadFilesContinue from Python.\n",
              "  outputElement.steps = steps;\n",
              "\n",
              "  return _uploadFilesContinue(outputId);\n",
              "}\n",
              "\n",
              "// This is roughly an async generator (not supported in the browser yet),\n",
              "// where there are multiple asynchronous steps and the Python side is going\n",
              "// to poll for completion of each step.\n",
              "// This uses a Promise to block the python side on completion of each step,\n",
              "// then passes the result of the previous step as the input to the next step.\n",
              "function _uploadFilesContinue(outputId) {\n",
              "  const outputElement = document.getElementById(outputId);\n",
              "  const steps = outputElement.steps;\n",
              "\n",
              "  const next = steps.next(outputElement.lastPromiseValue);\n",
              "  return Promise.resolve(next.value.promise).then((value) => {\n",
              "    // Cache the last promise value to make it available to the next\n",
              "    // step of the generator.\n",
              "    outputElement.lastPromiseValue = value;\n",
              "    return next.value.response;\n",
              "  });\n",
              "}\n",
              "\n",
              "/**\n",
              " * Generator function which is called between each async step of the upload\n",
              " * process.\n",
              " * @param {string} inputId Element ID of the input file picker element.\n",
              " * @param {string} outputId Element ID of the output display.\n",
              " * @return {!Iterable<!Object>} Iterable of next steps.\n",
              " */\n",
              "function* uploadFilesStep(inputId, outputId) {\n",
              "  const inputElement = document.getElementById(inputId);\n",
              "  inputElement.disabled = false;\n",
              "\n",
              "  const outputElement = document.getElementById(outputId);\n",
              "  outputElement.innerHTML = '';\n",
              "\n",
              "  const pickedPromise = new Promise((resolve) => {\n",
              "    inputElement.addEventListener('change', (e) => {\n",
              "      resolve(e.target.files);\n",
              "    });\n",
              "  });\n",
              "\n",
              "  const cancel = document.createElement('button');\n",
              "  inputElement.parentElement.appendChild(cancel);\n",
              "  cancel.textContent = 'Cancel upload';\n",
              "  const cancelPromise = new Promise((resolve) => {\n",
              "    cancel.onclick = () => {\n",
              "      resolve(null);\n",
              "    };\n",
              "  });\n",
              "\n",
              "  // Wait for the user to pick the files.\n",
              "  const files = yield {\n",
              "    promise: Promise.race([pickedPromise, cancelPromise]),\n",
              "    response: {\n",
              "      action: 'starting',\n",
              "    }\n",
              "  };\n",
              "\n",
              "  cancel.remove();\n",
              "\n",
              "  // Disable the input element since further picks are not allowed.\n",
              "  inputElement.disabled = true;\n",
              "\n",
              "  if (!files) {\n",
              "    return {\n",
              "      response: {\n",
              "        action: 'complete',\n",
              "      }\n",
              "    };\n",
              "  }\n",
              "\n",
              "  for (const file of files) {\n",
              "    const li = document.createElement('li');\n",
              "    li.append(span(file.name, {fontWeight: 'bold'}));\n",
              "    li.append(span(\n",
              "        `(${file.type || 'n/a'}) - ${file.size} bytes, ` +\n",
              "        `last modified: ${\n",
              "            file.lastModifiedDate ? file.lastModifiedDate.toLocaleDateString() :\n",
              "                                    'n/a'} - `));\n",
              "    const percent = span('0% done');\n",
              "    li.appendChild(percent);\n",
              "\n",
              "    outputElement.appendChild(li);\n",
              "\n",
              "    const fileDataPromise = new Promise((resolve) => {\n",
              "      const reader = new FileReader();\n",
              "      reader.onload = (e) => {\n",
              "        resolve(e.target.result);\n",
              "      };\n",
              "      reader.readAsArrayBuffer(file);\n",
              "    });\n",
              "    // Wait for the data to be ready.\n",
              "    let fileData = yield {\n",
              "      promise: fileDataPromise,\n",
              "      response: {\n",
              "        action: 'continue',\n",
              "      }\n",
              "    };\n",
              "\n",
              "    // Use a chunked sending to avoid message size limits. See b/62115660.\n",
              "    let position = 0;\n",
              "    do {\n",
              "      const length = Math.min(fileData.byteLength - position, MAX_PAYLOAD_SIZE);\n",
              "      const chunk = new Uint8Array(fileData, position, length);\n",
              "      position += length;\n",
              "\n",
              "      const base64 = btoa(String.fromCharCode.apply(null, chunk));\n",
              "      yield {\n",
              "        response: {\n",
              "          action: 'append',\n",
              "          file: file.name,\n",
              "          data: base64,\n",
              "        },\n",
              "      };\n",
              "\n",
              "      let percentDone = fileData.byteLength === 0 ?\n",
              "          100 :\n",
              "          Math.round((position / fileData.byteLength) * 100);\n",
              "      percent.textContent = `${percentDone}% done`;\n",
              "\n",
              "    } while (position < fileData.byteLength);\n",
              "  }\n",
              "\n",
              "  // All done.\n",
              "  yield {\n",
              "    response: {\n",
              "      action: 'complete',\n",
              "    }\n",
              "  };\n",
              "}\n",
              "\n",
              "scope.google = scope.google || {};\n",
              "scope.google.colab = scope.google.colab || {};\n",
              "scope.google.colab._files = {\n",
              "  _uploadFiles,\n",
              "  _uploadFilesContinue,\n",
              "};\n",
              "})(self);\n",
              "</script> "
            ]
          },
          "metadata": {}
        },
        {
          "output_type": "stream",
          "name": "stdout",
          "text": [
            "Saving Retail_Supply_Chain_Data_TBC.csv to Retail_Supply_Chain_Data_TBC (1).csv\n"
          ]
        }
      ],
      "source": [
        "from google.colab import files\n",
        "uploaded = files.upload()"
      ]
    },
    {
      "cell_type": "code",
      "source": [
        "# Loading CSV file into Pandas DataFrame\n",
        "import pandas as pd\n",
        "data = pd.read_csv('Retail_Supply_Chain_Data_TBC.csv')"
      ],
      "metadata": {
        "id": "dDAGqoai4xHR"
      },
      "execution_count": 17,
      "outputs": []
    },
    {
      "cell_type": "code",
      "source": [
        "data.head(5)"
      ],
      "metadata": {
        "id": "L7o2AS8I6Uk3",
        "outputId": "2b86e8a4-098a-4fa8-bf8e-d3c161047dfc",
        "colab": {
          "base_uri": "https://localhost:8080/",
          "height": 243
        }
      },
      "execution_count": 19,
      "outputs": [
        {
          "output_type": "execute_result",
          "data": {
            "text/plain": [
              "       Date Store ID Product ID     Category Region  Inventory Level  \\\n",
              "0  1/1/2022     S001      P0001    Groceries  North              231   \n",
              "1  1/1/2022     S001      P0002         Toys  South              204   \n",
              "2  1/1/2022     S001      P0003         Toys   West              102   \n",
              "3  1/1/2022     S001      P0004         Toys  North              469   \n",
              "4  1/1/2022     S001      P0005  Electronics   East              166   \n",
              "\n",
              "   Units Sold  Units Ordered  Demand Forecast  Price  Discount  \\\n",
              "0         127             55           135.47  33.50        20   \n",
              "1         150             66           144.04  63.01        20   \n",
              "2          65             51            74.02  27.99        10   \n",
              "3          61            164            62.18  32.72        10   \n",
              "4          14            135             9.26  73.64         0   \n",
              "\n",
              "  Weather Condition  Holiday/Promotion  Competitor Pricing Seasonality  \n",
              "0             Rainy                  0               29.69      Autumn  \n",
              "1             Sunny                  0               66.16      Autumn  \n",
              "2             Sunny                  1               31.32      Summer  \n",
              "3            Cloudy                  1               34.74      Autumn  \n",
              "4             Sunny                  0               68.95      Summer  "
            ],
            "text/html": [
              "\n",
              "  <div id=\"df-21a50553-d558-40d2-91f5-496d283884a9\" class=\"colab-df-container\">\n",
              "    <div>\n",
              "<style scoped>\n",
              "    .dataframe tbody tr th:only-of-type {\n",
              "        vertical-align: middle;\n",
              "    }\n",
              "\n",
              "    .dataframe tbody tr th {\n",
              "        vertical-align: top;\n",
              "    }\n",
              "\n",
              "    .dataframe thead th {\n",
              "        text-align: right;\n",
              "    }\n",
              "</style>\n",
              "<table border=\"1\" class=\"dataframe\">\n",
              "  <thead>\n",
              "    <tr style=\"text-align: right;\">\n",
              "      <th></th>\n",
              "      <th>Date</th>\n",
              "      <th>Store ID</th>\n",
              "      <th>Product ID</th>\n",
              "      <th>Category</th>\n",
              "      <th>Region</th>\n",
              "      <th>Inventory Level</th>\n",
              "      <th>Units Sold</th>\n",
              "      <th>Units Ordered</th>\n",
              "      <th>Demand Forecast</th>\n",
              "      <th>Price</th>\n",
              "      <th>Discount</th>\n",
              "      <th>Weather Condition</th>\n",
              "      <th>Holiday/Promotion</th>\n",
              "      <th>Competitor Pricing</th>\n",
              "      <th>Seasonality</th>\n",
              "    </tr>\n",
              "  </thead>\n",
              "  <tbody>\n",
              "    <tr>\n",
              "      <th>0</th>\n",
              "      <td>1/1/2022</td>\n",
              "      <td>S001</td>\n",
              "      <td>P0001</td>\n",
              "      <td>Groceries</td>\n",
              "      <td>North</td>\n",
              "      <td>231</td>\n",
              "      <td>127</td>\n",
              "      <td>55</td>\n",
              "      <td>135.47</td>\n",
              "      <td>33.50</td>\n",
              "      <td>20</td>\n",
              "      <td>Rainy</td>\n",
              "      <td>0</td>\n",
              "      <td>29.69</td>\n",
              "      <td>Autumn</td>\n",
              "    </tr>\n",
              "    <tr>\n",
              "      <th>1</th>\n",
              "      <td>1/1/2022</td>\n",
              "      <td>S001</td>\n",
              "      <td>P0002</td>\n",
              "      <td>Toys</td>\n",
              "      <td>South</td>\n",
              "      <td>204</td>\n",
              "      <td>150</td>\n",
              "      <td>66</td>\n",
              "      <td>144.04</td>\n",
              "      <td>63.01</td>\n",
              "      <td>20</td>\n",
              "      <td>Sunny</td>\n",
              "      <td>0</td>\n",
              "      <td>66.16</td>\n",
              "      <td>Autumn</td>\n",
              "    </tr>\n",
              "    <tr>\n",
              "      <th>2</th>\n",
              "      <td>1/1/2022</td>\n",
              "      <td>S001</td>\n",
              "      <td>P0003</td>\n",
              "      <td>Toys</td>\n",
              "      <td>West</td>\n",
              "      <td>102</td>\n",
              "      <td>65</td>\n",
              "      <td>51</td>\n",
              "      <td>74.02</td>\n",
              "      <td>27.99</td>\n",
              "      <td>10</td>\n",
              "      <td>Sunny</td>\n",
              "      <td>1</td>\n",
              "      <td>31.32</td>\n",
              "      <td>Summer</td>\n",
              "    </tr>\n",
              "    <tr>\n",
              "      <th>3</th>\n",
              "      <td>1/1/2022</td>\n",
              "      <td>S001</td>\n",
              "      <td>P0004</td>\n",
              "      <td>Toys</td>\n",
              "      <td>North</td>\n",
              "      <td>469</td>\n",
              "      <td>61</td>\n",
              "      <td>164</td>\n",
              "      <td>62.18</td>\n",
              "      <td>32.72</td>\n",
              "      <td>10</td>\n",
              "      <td>Cloudy</td>\n",
              "      <td>1</td>\n",
              "      <td>34.74</td>\n",
              "      <td>Autumn</td>\n",
              "    </tr>\n",
              "    <tr>\n",
              "      <th>4</th>\n",
              "      <td>1/1/2022</td>\n",
              "      <td>S001</td>\n",
              "      <td>P0005</td>\n",
              "      <td>Electronics</td>\n",
              "      <td>East</td>\n",
              "      <td>166</td>\n",
              "      <td>14</td>\n",
              "      <td>135</td>\n",
              "      <td>9.26</td>\n",
              "      <td>73.64</td>\n",
              "      <td>0</td>\n",
              "      <td>Sunny</td>\n",
              "      <td>0</td>\n",
              "      <td>68.95</td>\n",
              "      <td>Summer</td>\n",
              "    </tr>\n",
              "  </tbody>\n",
              "</table>\n",
              "</div>\n",
              "    <div class=\"colab-df-buttons\">\n",
              "\n",
              "  <div class=\"colab-df-container\">\n",
              "    <button class=\"colab-df-convert\" onclick=\"convertToInteractive('df-21a50553-d558-40d2-91f5-496d283884a9')\"\n",
              "            title=\"Convert this dataframe to an interactive table.\"\n",
              "            style=\"display:none;\">\n",
              "\n",
              "  <svg xmlns=\"http://www.w3.org/2000/svg\" height=\"24px\" viewBox=\"0 -960 960 960\">\n",
              "    <path d=\"M120-120v-720h720v720H120Zm60-500h600v-160H180v160Zm220 220h160v-160H400v160Zm0 220h160v-160H400v160ZM180-400h160v-160H180v160Zm440 0h160v-160H620v160ZM180-180h160v-160H180v160Zm440 0h160v-160H620v160Z\"/>\n",
              "  </svg>\n",
              "    </button>\n",
              "\n",
              "  <style>\n",
              "    .colab-df-container {\n",
              "      display:flex;\n",
              "      gap: 12px;\n",
              "    }\n",
              "\n",
              "    .colab-df-convert {\n",
              "      background-color: #E8F0FE;\n",
              "      border: none;\n",
              "      border-radius: 50%;\n",
              "      cursor: pointer;\n",
              "      display: none;\n",
              "      fill: #1967D2;\n",
              "      height: 32px;\n",
              "      padding: 0 0 0 0;\n",
              "      width: 32px;\n",
              "    }\n",
              "\n",
              "    .colab-df-convert:hover {\n",
              "      background-color: #E2EBFA;\n",
              "      box-shadow: 0px 1px 2px rgba(60, 64, 67, 0.3), 0px 1px 3px 1px rgba(60, 64, 67, 0.15);\n",
              "      fill: #174EA6;\n",
              "    }\n",
              "\n",
              "    .colab-df-buttons div {\n",
              "      margin-bottom: 4px;\n",
              "    }\n",
              "\n",
              "    [theme=dark] .colab-df-convert {\n",
              "      background-color: #3B4455;\n",
              "      fill: #D2E3FC;\n",
              "    }\n",
              "\n",
              "    [theme=dark] .colab-df-convert:hover {\n",
              "      background-color: #434B5C;\n",
              "      box-shadow: 0px 1px 3px 1px rgba(0, 0, 0, 0.15);\n",
              "      filter: drop-shadow(0px 1px 2px rgba(0, 0, 0, 0.3));\n",
              "      fill: #FFFFFF;\n",
              "    }\n",
              "  </style>\n",
              "\n",
              "    <script>\n",
              "      const buttonEl =\n",
              "        document.querySelector('#df-21a50553-d558-40d2-91f5-496d283884a9 button.colab-df-convert');\n",
              "      buttonEl.style.display =\n",
              "        google.colab.kernel.accessAllowed ? 'block' : 'none';\n",
              "\n",
              "      async function convertToInteractive(key) {\n",
              "        const element = document.querySelector('#df-21a50553-d558-40d2-91f5-496d283884a9');\n",
              "        const dataTable =\n",
              "          await google.colab.kernel.invokeFunction('convertToInteractive',\n",
              "                                                    [key], {});\n",
              "        if (!dataTable) return;\n",
              "\n",
              "        const docLinkHtml = 'Like what you see? Visit the ' +\n",
              "          '<a target=\"_blank\" href=https://colab.research.google.com/notebooks/data_table.ipynb>data table notebook</a>'\n",
              "          + ' to learn more about interactive tables.';\n",
              "        element.innerHTML = '';\n",
              "        dataTable['output_type'] = 'display_data';\n",
              "        await google.colab.output.renderOutput(dataTable, element);\n",
              "        const docLink = document.createElement('div');\n",
              "        docLink.innerHTML = docLinkHtml;\n",
              "        element.appendChild(docLink);\n",
              "      }\n",
              "    </script>\n",
              "  </div>\n",
              "\n",
              "\n",
              "<div id=\"df-3255794f-ade8-46d1-9974-f2c81a88de35\">\n",
              "  <button class=\"colab-df-quickchart\" onclick=\"quickchart('df-3255794f-ade8-46d1-9974-f2c81a88de35')\"\n",
              "            title=\"Suggest charts\"\n",
              "            style=\"display:none;\">\n",
              "\n",
              "<svg xmlns=\"http://www.w3.org/2000/svg\" height=\"24px\"viewBox=\"0 0 24 24\"\n",
              "     width=\"24px\">\n",
              "    <g>\n",
              "        <path d=\"M19 3H5c-1.1 0-2 .9-2 2v14c0 1.1.9 2 2 2h14c1.1 0 2-.9 2-2V5c0-1.1-.9-2-2-2zM9 17H7v-7h2v7zm4 0h-2V7h2v10zm4 0h-2v-4h2v4z\"/>\n",
              "    </g>\n",
              "</svg>\n",
              "  </button>\n",
              "\n",
              "<style>\n",
              "  .colab-df-quickchart {\n",
              "      --bg-color: #E8F0FE;\n",
              "      --fill-color: #1967D2;\n",
              "      --hover-bg-color: #E2EBFA;\n",
              "      --hover-fill-color: #174EA6;\n",
              "      --disabled-fill-color: #AAA;\n",
              "      --disabled-bg-color: #DDD;\n",
              "  }\n",
              "\n",
              "  [theme=dark] .colab-df-quickchart {\n",
              "      --bg-color: #3B4455;\n",
              "      --fill-color: #D2E3FC;\n",
              "      --hover-bg-color: #434B5C;\n",
              "      --hover-fill-color: #FFFFFF;\n",
              "      --disabled-bg-color: #3B4455;\n",
              "      --disabled-fill-color: #666;\n",
              "  }\n",
              "\n",
              "  .colab-df-quickchart {\n",
              "    background-color: var(--bg-color);\n",
              "    border: none;\n",
              "    border-radius: 50%;\n",
              "    cursor: pointer;\n",
              "    display: none;\n",
              "    fill: var(--fill-color);\n",
              "    height: 32px;\n",
              "    padding: 0;\n",
              "    width: 32px;\n",
              "  }\n",
              "\n",
              "  .colab-df-quickchart:hover {\n",
              "    background-color: var(--hover-bg-color);\n",
              "    box-shadow: 0 1px 2px rgba(60, 64, 67, 0.3), 0 1px 3px 1px rgba(60, 64, 67, 0.15);\n",
              "    fill: var(--button-hover-fill-color);\n",
              "  }\n",
              "\n",
              "  .colab-df-quickchart-complete:disabled,\n",
              "  .colab-df-quickchart-complete:disabled:hover {\n",
              "    background-color: var(--disabled-bg-color);\n",
              "    fill: var(--disabled-fill-color);\n",
              "    box-shadow: none;\n",
              "  }\n",
              "\n",
              "  .colab-df-spinner {\n",
              "    border: 2px solid var(--fill-color);\n",
              "    border-color: transparent;\n",
              "    border-bottom-color: var(--fill-color);\n",
              "    animation:\n",
              "      spin 1s steps(1) infinite;\n",
              "  }\n",
              "\n",
              "  @keyframes spin {\n",
              "    0% {\n",
              "      border-color: transparent;\n",
              "      border-bottom-color: var(--fill-color);\n",
              "      border-left-color: var(--fill-color);\n",
              "    }\n",
              "    20% {\n",
              "      border-color: transparent;\n",
              "      border-left-color: var(--fill-color);\n",
              "      border-top-color: var(--fill-color);\n",
              "    }\n",
              "    30% {\n",
              "      border-color: transparent;\n",
              "      border-left-color: var(--fill-color);\n",
              "      border-top-color: var(--fill-color);\n",
              "      border-right-color: var(--fill-color);\n",
              "    }\n",
              "    40% {\n",
              "      border-color: transparent;\n",
              "      border-right-color: var(--fill-color);\n",
              "      border-top-color: var(--fill-color);\n",
              "    }\n",
              "    60% {\n",
              "      border-color: transparent;\n",
              "      border-right-color: var(--fill-color);\n",
              "    }\n",
              "    80% {\n",
              "      border-color: transparent;\n",
              "      border-right-color: var(--fill-color);\n",
              "      border-bottom-color: var(--fill-color);\n",
              "    }\n",
              "    90% {\n",
              "      border-color: transparent;\n",
              "      border-bottom-color: var(--fill-color);\n",
              "    }\n",
              "  }\n",
              "</style>\n",
              "\n",
              "  <script>\n",
              "    async function quickchart(key) {\n",
              "      const quickchartButtonEl =\n",
              "        document.querySelector('#' + key + ' button');\n",
              "      quickchartButtonEl.disabled = true;  // To prevent multiple clicks.\n",
              "      quickchartButtonEl.classList.add('colab-df-spinner');\n",
              "      try {\n",
              "        const charts = await google.colab.kernel.invokeFunction(\n",
              "            'suggestCharts', [key], {});\n",
              "      } catch (error) {\n",
              "        console.error('Error during call to suggestCharts:', error);\n",
              "      }\n",
              "      quickchartButtonEl.classList.remove('colab-df-spinner');\n",
              "      quickchartButtonEl.classList.add('colab-df-quickchart-complete');\n",
              "    }\n",
              "    (() => {\n",
              "      let quickchartButtonEl =\n",
              "        document.querySelector('#df-3255794f-ade8-46d1-9974-f2c81a88de35 button');\n",
              "      quickchartButtonEl.style.display =\n",
              "        google.colab.kernel.accessAllowed ? 'block' : 'none';\n",
              "    })();\n",
              "  </script>\n",
              "</div>\n",
              "\n",
              "    </div>\n",
              "  </div>\n"
            ],
            "application/vnd.google.colaboratory.intrinsic+json": {
              "type": "dataframe",
              "variable_name": "data",
              "summary": "{\n  \"name\": \"data\",\n  \"rows\": 73600,\n  \"fields\": [\n    {\n      \"column\": \"Date\",\n      \"properties\": {\n        \"dtype\": \"category\",\n        \"num_unique_values\": 1173,\n        \"samples\": [\n          \"10/31/2022\",\n          \"4/29/2022\",\n          \"27/09/2023\"\n        ],\n        \"semantic_type\": \"\",\n        \"description\": \"\"\n      }\n    },\n    {\n      \"column\": \"Store ID\",\n      \"properties\": {\n        \"dtype\": \"category\",\n        \"num_unique_values\": 5,\n        \"samples\": [\n          \"S002\",\n          \"S005\",\n          \"S003\"\n        ],\n        \"semantic_type\": \"\",\n        \"description\": \"\"\n      }\n    },\n    {\n      \"column\": \"Product ID\",\n      \"properties\": {\n        \"dtype\": \"category\",\n        \"num_unique_values\": 20,\n        \"samples\": [\n          \"P0001\",\n          \"P0018\",\n          \"P0016\"\n        ],\n        \"semantic_type\": \"\",\n        \"description\": \"\"\n      }\n    },\n    {\n      \"column\": \"Category\",\n      \"properties\": {\n        \"dtype\": \"category\",\n        \"num_unique_values\": 5,\n        \"samples\": [\n          \"Toys\",\n          \"Clothing\",\n          \"Electronics\"\n        ],\n        \"semantic_type\": \"\",\n        \"description\": \"\"\n      }\n    },\n    {\n      \"column\": \"Region\",\n      \"properties\": {\n        \"dtype\": \"category\",\n        \"num_unique_values\": 4,\n        \"samples\": [\n          \"South\",\n          \"East\",\n          \"North\"\n        ],\n        \"semantic_type\": \"\",\n        \"description\": \"\"\n      }\n    },\n    {\n      \"column\": \"Inventory Level\",\n      \"properties\": {\n        \"dtype\": \"number\",\n        \"std\": 129,\n        \"min\": 50,\n        \"max\": 500,\n        \"num_unique_values\": 451,\n        \"samples\": [\n          98,\n          375,\n          212\n        ],\n        \"semantic_type\": \"\",\n        \"description\": \"\"\n      }\n    },\n    {\n      \"column\": \"Units Sold\",\n      \"properties\": {\n        \"dtype\": \"number\",\n        \"std\": 108,\n        \"min\": 0,\n        \"max\": 499,\n        \"num_unique_values\": 498,\n        \"samples\": [\n          486,\n          176,\n          92\n        ],\n        \"semantic_type\": \"\",\n        \"description\": \"\"\n      }\n    },\n    {\n      \"column\": \"Units Ordered\",\n      \"properties\": {\n        \"dtype\": \"number\",\n        \"std\": 52,\n        \"min\": 20,\n        \"max\": 200,\n        \"num_unique_values\": 181,\n        \"samples\": [\n          144,\n          124,\n          87\n        ],\n        \"semantic_type\": \"\",\n        \"description\": \"\"\n      }\n    },\n    {\n      \"column\": \"Demand Forecast\",\n      \"properties\": {\n        \"dtype\": \"number\",\n        \"std\": 109.15108880973993,\n        \"min\": -9.99,\n        \"max\": 518.55,\n        \"num_unique_values\": 31178,\n        \"samples\": [\n          188.94,\n          369.57,\n          230.21\n        ],\n        \"semantic_type\": \"\",\n        \"description\": \"\"\n      }\n    },\n    {\n      \"column\": \"Price\",\n      \"properties\": {\n        \"dtype\": \"number\",\n        \"std\": 26.012967094934726,\n        \"min\": 10.0,\n        \"max\": 100.0,\n        \"num_unique_values\": 8999,\n        \"samples\": [\n          45.32,\n          69.36,\n          70.4\n        ],\n        \"semantic_type\": \"\",\n        \"description\": \"\"\n      }\n    },\n    {\n      \"column\": \"Discount\",\n      \"properties\": {\n        \"dtype\": \"number\",\n        \"std\": 7,\n        \"min\": 0,\n        \"max\": 20,\n        \"num_unique_values\": 5,\n        \"samples\": [\n          10,\n          15,\n          0\n        ],\n        \"semantic_type\": \"\",\n        \"description\": \"\"\n      }\n    },\n    {\n      \"column\": \"Weather Condition\",\n      \"properties\": {\n        \"dtype\": \"category\",\n        \"num_unique_values\": 4,\n        \"samples\": [\n          \"Sunny\",\n          \"Snowy\",\n          \"Rainy\"\n        ],\n        \"semantic_type\": \"\",\n        \"description\": \"\"\n      }\n    },\n    {\n      \"column\": \"Holiday/Promotion\",\n      \"properties\": {\n        \"dtype\": \"number\",\n        \"std\": 0,\n        \"min\": 0,\n        \"max\": 1,\n        \"num_unique_values\": 2,\n        \"samples\": [\n          1,\n          0\n        ],\n        \"semantic_type\": \"\",\n        \"description\": \"\"\n      }\n    },\n    {\n      \"column\": \"Competitor Pricing\",\n      \"properties\": {\n        \"dtype\": \"number\",\n        \"std\": 26.194299069099582,\n        \"min\": 5.03,\n        \"max\": 104.94,\n        \"num_unique_values\": 9751,\n        \"samples\": [\n          96.16,\n          22.17\n        ],\n        \"semantic_type\": \"\",\n        \"description\": \"\"\n      }\n    },\n    {\n      \"column\": \"Seasonality\",\n      \"properties\": {\n        \"dtype\": \"category\",\n        \"num_unique_values\": 4,\n        \"samples\": [\n          \"Summer\",\n          \"Spring\"\n        ],\n        \"semantic_type\": \"\",\n        \"description\": \"\"\n      }\n    }\n  ]\n}"
            }
          },
          "metadata": {},
          "execution_count": 19
        }
      ]
    },
    {
      "cell_type": "code",
      "source": [
        "print(data.isnull().sum())"
      ],
      "metadata": {
        "colab": {
          "base_uri": "https://localhost:8080/"
        },
        "id": "GM_MYRTz63u3",
        "outputId": "15f79933-3a92-4e2b-dfcd-e8a05c2d8751"
      },
      "execution_count": 23,
      "outputs": [
        {
          "output_type": "stream",
          "name": "stdout",
          "text": [
            "Date                     0\n",
            "Store ID                 0\n",
            "Product ID               0\n",
            "Category                 0\n",
            "Region                   0\n",
            "Inventory Level          0\n",
            "Units Sold               0\n",
            "Units Ordered            0\n",
            "Demand Forecast       2213\n",
            "Price                 3679\n",
            "Discount                 0\n",
            "Weather Condition        0\n",
            "Holiday/Promotion        0\n",
            "Competitor Pricing       0\n",
            "Seasonality              0\n",
            "dtype: int64\n"
          ]
        }
      ]
    },
    {
      "cell_type": "code",
      "source": [
        "# Selecting only numeric columns before applying the condition\n",
        "numeric_cols = data.select_dtypes(include=['number'])\n",
        "negative_counts = (numeric_cols < 0).sum()\n",
        "\n",
        "print(negative_counts)\n"
      ],
      "metadata": {
        "colab": {
          "base_uri": "https://localhost:8080/"
        },
        "id": "0imxvaCo7H1j",
        "outputId": "4b5d6652-8ff0-430c-8169-8dc08e33aec4"
      },
      "execution_count": 22,
      "outputs": [
        {
          "output_type": "stream",
          "name": "stdout",
          "text": [
            "Inventory Level         0\n",
            "Units Sold              0\n",
            "Units Ordered           0\n",
            "Demand Forecast       661\n",
            "Price                   0\n",
            "Discount                0\n",
            "Holiday/Promotion       0\n",
            "Competitor Pricing      0\n",
            "dtype: int64\n"
          ]
        }
      ]
    },
    {
      "cell_type": "code",
      "source": [
        "# Handling missing values in the Price column\n",
        "data.loc[:, 'Price'] = data['Price'].fillna(data['Price'].median())\n",
        "data.loc[:, 'Demand Forecast'] = data['Demand Forecast'].fillna(data['Demand Forecast'].median())\n",
        "# Handling negative values in the Demand Forecast column\n",
        "data.loc[:, 'Demand Forecast'] = data['Demand Forecast'].abs()\n",
        "\n",
        "# Sorting the Demand Forecast column in ascending order and returning the first 5 rows\n",
        "data['Demand Forecast'].sort_values().head(5)\n"
      ],
      "metadata": {
        "colab": {
          "base_uri": "https://localhost:8080/",
          "height": 241
        },
        "id": "Buse1n_Y41Nj",
        "outputId": "668cb70c-16b0-47af-bb6a-9740b20b7449"
      },
      "execution_count": 24,
      "outputs": [
        {
          "output_type": "execute_result",
          "data": {
            "text/plain": [
              "59385    0.01\n",
              "68261    0.01\n",
              "33100    0.02\n",
              "72890    0.03\n",
              "1398     0.03\n",
              "Name: Demand Forecast, dtype: float64"
            ],
            "text/html": [
              "<div>\n",
              "<style scoped>\n",
              "    .dataframe tbody tr th:only-of-type {\n",
              "        vertical-align: middle;\n",
              "    }\n",
              "\n",
              "    .dataframe tbody tr th {\n",
              "        vertical-align: top;\n",
              "    }\n",
              "\n",
              "    .dataframe thead th {\n",
              "        text-align: right;\n",
              "    }\n",
              "</style>\n",
              "<table border=\"1\" class=\"dataframe\">\n",
              "  <thead>\n",
              "    <tr style=\"text-align: right;\">\n",
              "      <th></th>\n",
              "      <th>Demand Forecast</th>\n",
              "    </tr>\n",
              "  </thead>\n",
              "  <tbody>\n",
              "    <tr>\n",
              "      <th>59385</th>\n",
              "      <td>0.01</td>\n",
              "    </tr>\n",
              "    <tr>\n",
              "      <th>68261</th>\n",
              "      <td>0.01</td>\n",
              "    </tr>\n",
              "    <tr>\n",
              "      <th>33100</th>\n",
              "      <td>0.02</td>\n",
              "    </tr>\n",
              "    <tr>\n",
              "      <th>72890</th>\n",
              "      <td>0.03</td>\n",
              "    </tr>\n",
              "    <tr>\n",
              "      <th>1398</th>\n",
              "      <td>0.03</td>\n",
              "    </tr>\n",
              "  </tbody>\n",
              "</table>\n",
              "</div><br><label><b>dtype:</b> float64</label>"
            ]
          },
          "metadata": {},
          "execution_count": 24
        }
      ]
    },
    {
      "cell_type": "code",
      "source": [
        "print(data.isnull().sum())"
      ],
      "metadata": {
        "colab": {
          "base_uri": "https://localhost:8080/"
        },
        "id": "l6kNihF671j9",
        "outputId": "25c5b761-cb3c-40f5-8f91-7754288d7f9e"
      },
      "execution_count": 25,
      "outputs": [
        {
          "output_type": "stream",
          "name": "stdout",
          "text": [
            "Date                  0\n",
            "Store ID              0\n",
            "Product ID            0\n",
            "Category              0\n",
            "Region                0\n",
            "Inventory Level       0\n",
            "Units Sold            0\n",
            "Units Ordered         0\n",
            "Demand Forecast       0\n",
            "Price                 0\n",
            "Discount              0\n",
            "Weather Condition     0\n",
            "Holiday/Promotion     0\n",
            "Competitor Pricing    0\n",
            "Seasonality           0\n",
            "dtype: int64\n"
          ]
        }
      ]
    },
    {
      "cell_type": "code",
      "source": [
        "# Selecting only numeric columns before applying the condition\n",
        "numeric_cols = data.select_dtypes(include=['number'])\n",
        "negative_counts = (numeric_cols < 0).sum()\n",
        "\n",
        "print(negative_counts)"
      ],
      "metadata": {
        "colab": {
          "base_uri": "https://localhost:8080/"
        },
        "id": "Xq_96C3c75Hn",
        "outputId": "da7a8426-809b-4073-c882-8690e4cac528"
      },
      "execution_count": 26,
      "outputs": [
        {
          "output_type": "stream",
          "name": "stdout",
          "text": [
            "Inventory Level       0\n",
            "Units Sold            0\n",
            "Units Ordered         0\n",
            "Demand Forecast       0\n",
            "Price                 0\n",
            "Discount              0\n",
            "Holiday/Promotion     0\n",
            "Competitor Pricing    0\n",
            "dtype: int64\n"
          ]
        }
      ]
    },
    {
      "cell_type": "code",
      "source": [
        "# Checking data types of all columns\n",
        "print(data.dtypes)"
      ],
      "metadata": {
        "colab": {
          "base_uri": "https://localhost:8080/"
        },
        "id": "ISM5GTSO41TU",
        "outputId": "cd472b4d-6f6a-4d92-f2d1-3daa03c4566a"
      },
      "execution_count": 27,
      "outputs": [
        {
          "output_type": "stream",
          "name": "stdout",
          "text": [
            "Date                   object\n",
            "Store ID               object\n",
            "Product ID             object\n",
            "Category               object\n",
            "Region                 object\n",
            "Inventory Level         int64\n",
            "Units Sold              int64\n",
            "Units Ordered           int64\n",
            "Demand Forecast       float64\n",
            "Price                 float64\n",
            "Discount                int64\n",
            "Weather Condition      object\n",
            "Holiday/Promotion       int64\n",
            "Competitor Pricing    float64\n",
            "Seasonality            object\n",
            "dtype: object\n"
          ]
        }
      ]
    },
    {
      "cell_type": "code",
      "source": [
        "data['Date'] = pd.to_datetime(data['Date'], errors='coerce')  # Handle invalid date values\n",
        "data['Inventory Level'] = pd.to_numeric(data['Inventory Level'], errors='coerce').fillna(0).astype(int)  # Ensure it's integer\n",
        "\n"
      ],
      "metadata": {
        "id": "TTJJhwq341V0"
      },
      "execution_count": 28,
      "outputs": []
    },
    {
      "cell_type": "code",
      "source": [
        "# Displaying updated data types\n",
        "print(data.dtypes)"
      ],
      "metadata": {
        "id": "_7DmnQrk41hw",
        "colab": {
          "base_uri": "https://localhost:8080/"
        },
        "outputId": "2f5d25bc-e7e0-4947-a3ed-9d425e3ba161"
      },
      "execution_count": 29,
      "outputs": [
        {
          "output_type": "stream",
          "name": "stdout",
          "text": [
            "Date                  datetime64[ns]\n",
            "Store ID                      object\n",
            "Product ID                    object\n",
            "Category                      object\n",
            "Region                        object\n",
            "Inventory Level                int64\n",
            "Units Sold                     int64\n",
            "Units Ordered                  int64\n",
            "Demand Forecast              float64\n",
            "Price                        float64\n",
            "Discount                       int64\n",
            "Weather Condition             object\n",
            "Holiday/Promotion              int64\n",
            "Competitor Pricing           float64\n",
            "Seasonality                   object\n",
            "dtype: object\n"
          ]
        }
      ]
    },
    {
      "cell_type": "code",
      "source": [
        "print(data[data.duplicated()])"
      ],
      "metadata": {
        "colab": {
          "base_uri": "https://localhost:8080/"
        },
        "id": "tqw2udbu8U0P",
        "outputId": "3f6230e1-fdcc-43bf-96bd-e9dce8f272b3"
      },
      "execution_count": 31,
      "outputs": [
        {
          "output_type": "stream",
          "name": "stdout",
          "text": [
            "            Date Store ID Product ID     Category Region  Inventory Level  \\\n",
            "73100        NaT     S003      P0017  Electronics  North              324   \n",
            "73102        NaT     S002      P0016         Toys   East              116   \n",
            "73104 2022-11-08     S004      P0020    Groceries  North              337   \n",
            "73106 2022-01-01     S005      P0019    Groceries  South              235   \n",
            "73107 2022-06-13     S005      P0019         Toys  North              362   \n",
            "...          ...      ...        ...          ...    ...              ...   \n",
            "73586 2023-09-20     S002      P0006     Clothing   West              123   \n",
            "73592 2023-02-16     S002      P0002         Toys   East              440   \n",
            "73594 2022-06-25     S001      P0009         Toys  North              274   \n",
            "73595        NaT     S004      P0018  Electronics   West              238   \n",
            "73597        NaT     S005      P0004         Toys  South              457   \n",
            "\n",
            "       Units Sold  Units Ordered  Demand Forecast  Price  Discount  \\\n",
            "73100         158            101           169.22  90.24        20   \n",
            "73102          93            176           110.62  54.79         0   \n",
            "73104         238             49           236.60  48.79         0   \n",
            "73106         106            124           119.33  88.22         5   \n",
            "73107          39            146            57.16  41.22         5   \n",
            "...           ...            ...              ...    ...       ...   \n",
            "73586          36             66            34.97  26.27         5   \n",
            "73592          27            120            35.79  16.39        20   \n",
            "73594         131            126           124.15  55.01        10   \n",
            "73595         197            102           197.27  67.24         5   \n",
            "73597         114             93           128.83  68.58        20   \n",
            "\n",
            "      Weather Condition  Holiday/Promotion  Competitor Pricing Seasonality  \n",
            "73100             Rainy                  1               89.24      Winter  \n",
            "73102             Snowy                  0               53.54      Winter  \n",
            "73104             Snowy                  0               44.09      Winter  \n",
            "73106             Rainy                  0               91.16      Spring  \n",
            "73107            Cloudy                  1               41.07      Spring  \n",
            "...                 ...                ...                 ...         ...  \n",
            "73586             Rainy                  1               29.91      Spring  \n",
            "73592            Cloudy                  0               16.79      Autumn  \n",
            "73594            Cloudy                  1               51.65      Winter  \n",
            "73595            Cloudy                  1               65.56      Spring  \n",
            "73597            Cloudy                  0               65.71      Summer  \n",
            "\n",
            "[282 rows x 15 columns]\n"
          ]
        }
      ]
    },
    {
      "cell_type": "code",
      "source": [
        "# Removing duplicate rows from the DataFrame\n",
        "data.drop_duplicates(keep='first', inplace=True)\n",
        "print(data)"
      ],
      "metadata": {
        "colab": {
          "base_uri": "https://localhost:8080/"
        },
        "id": "Osm2_zL48cxE",
        "outputId": "5732f357-01e7-4065-b1f5-09701b87c13b"
      },
      "execution_count": 33,
      "outputs": [
        {
          "output_type": "stream",
          "name": "stdout",
          "text": [
            "            Date Store ID Product ID     Category Region  Inventory Level  \\\n",
            "0     2022-01-01     S001      P0001    Groceries  North              231   \n",
            "1     2022-01-01     S001      P0002         Toys  South              204   \n",
            "2     2022-01-01     S001      P0003         Toys   West              102   \n",
            "3     2022-01-01     S001      P0004         Toys  North              469   \n",
            "4     2022-01-01     S001      P0005  Electronics   East              166   \n",
            "...          ...      ...        ...          ...    ...              ...   \n",
            "73591 2023-08-19     S004      P0019         Toys   West              446   \n",
            "73593 2023-10-05     S005      P0004         Toys   West              262   \n",
            "73596 2022-07-02     S003      P0011  Electronics   West              223   \n",
            "73598        NaT     S001      P0009    Furniture  North              166   \n",
            "73599        NaT     S004      P0020    Groceries   West              256   \n",
            "\n",
            "       Units Sold  Units Ordered  Demand Forecast  Price  Discount  \\\n",
            "0             127             55           135.47  33.50        20   \n",
            "1             150             66           144.04  63.01        20   \n",
            "2              65             51            74.02  27.99        10   \n",
            "3              61            164            62.18  32.72        10   \n",
            "4              14            135             9.26  73.64         0   \n",
            "...           ...            ...              ...    ...       ...   \n",
            "73591         372             32           382.86  38.75        20   \n",
            "73593         137             43           147.61  63.49         0   \n",
            "73596          58            146            53.33  65.06         5   \n",
            "73598          85            119            82.67  70.07         5   \n",
            "73599         203            136           214.52  45.27        15   \n",
            "\n",
            "      Weather Condition  Holiday/Promotion  Competitor Pricing Seasonality  \n",
            "0                 Rainy                  0               29.69      Autumn  \n",
            "1                 Sunny                  0               66.16      Autumn  \n",
            "2                 Sunny                  1               31.32      Summer  \n",
            "3                Cloudy                  1               34.74      Autumn  \n",
            "4                 Sunny                  0               68.95      Summer  \n",
            "...                 ...                ...                 ...         ...  \n",
            "73591             Sunny                  0               35.46      Summer  \n",
            "73593             Sunny                  0               59.04      Autumn  \n",
            "73596             Sunny                  1               66.70      Winter  \n",
            "73598            Cloudy                  0               65.54      Summer  \n",
            "73599            Cloudy                  0               42.84      Spring  \n",
            "\n",
            "[73318 rows x 15 columns]\n"
          ]
        }
      ]
    },
    {
      "cell_type": "code",
      "source": [
        "print(data.duplicated().sum())"
      ],
      "metadata": {
        "colab": {
          "base_uri": "https://localhost:8080/"
        },
        "id": "aO8xBOMM8mAw",
        "outputId": "56d29707-8ac8-4652-87ee-0a58831f9cdd"
      },
      "execution_count": 34,
      "outputs": [
        {
          "output_type": "stream",
          "name": "stdout",
          "text": [
            "0\n"
          ]
        }
      ]
    },
    {
      "cell_type": "code",
      "source": [
        "# Converting Date column to YYYY-MM-DD format\n",
        "data['Date'] = pd.to_datetime(data['Date'], errors='coerce').dt.strftime('%Y-%m-%d')\n",
        "print(data['Date'].head())"
      ],
      "metadata": {
        "colab": {
          "base_uri": "https://localhost:8080/"
        },
        "id": "mjJXa-N78nO9",
        "outputId": "32375e76-f103-4646-94dc-026337831914"
      },
      "execution_count": 40,
      "outputs": [
        {
          "output_type": "stream",
          "name": "stdout",
          "text": [
            "0    2022-01-01\n",
            "1    2022-01-01\n",
            "2    2022-01-01\n",
            "3    2022-01-01\n",
            "4    2022-01-01\n",
            "Name: Date, dtype: object\n"
          ]
        }
      ]
    },
    {
      "cell_type": "code",
      "source": [
        "# Cleaning Category and Region columns\n",
        "data['Category'] = data['Category'].str.strip().str.title()\n",
        "data['Region'] = data['Region'].str.strip().str.title()\n",
        "\n",
        "# Displaying the cleaned DataFrame\n",
        "print(data)"
      ],
      "metadata": {
        "colab": {
          "base_uri": "https://localhost:8080/"
        },
        "id": "W2m9jGcJ81cM",
        "outputId": "298271bc-9cfb-4738-e263-3e127a3286b6"
      },
      "execution_count": 42,
      "outputs": [
        {
          "output_type": "stream",
          "name": "stdout",
          "text": [
            "             Date Store ID Product ID     Category Region  Inventory Level  \\\n",
            "0      2022-01-01     S001      P0001    Groceries  North              231   \n",
            "1      2022-01-01     S001      P0002         Toys  South              204   \n",
            "2      2022-01-01     S001      P0003         Toys   West              102   \n",
            "3      2022-01-01     S001      P0004         Toys  North              469   \n",
            "4      2022-01-01     S001      P0005  Electronics   East              166   \n",
            "...           ...      ...        ...          ...    ...              ...   \n",
            "73591  2023-08-19     S004      P0019         Toys   West              446   \n",
            "73593  2023-10-05     S005      P0004         Toys   West              262   \n",
            "73596  2022-07-02     S003      P0011  Electronics   West              223   \n",
            "73598         NaN     S001      P0009    Furniture  North              166   \n",
            "73599         NaN     S004      P0020    Groceries   West              256   \n",
            "\n",
            "       Units Sold  Units Ordered  Demand Forecast  Price  Discount  \\\n",
            "0             127             55           135.47  33.50        20   \n",
            "1             150             66           144.04  63.01        20   \n",
            "2              65             51            74.02  27.99        10   \n",
            "3              61            164            62.18  32.72        10   \n",
            "4              14            135             9.26  73.64         0   \n",
            "...           ...            ...              ...    ...       ...   \n",
            "73591         372             32           382.86  38.75        20   \n",
            "73593         137             43           147.61  63.49         0   \n",
            "73596          58            146            53.33  65.06         5   \n",
            "73598          85            119            82.67  70.07         5   \n",
            "73599         203            136           214.52  45.27        15   \n",
            "\n",
            "      Weather Condition  Holiday/Promotion  Competitor Pricing Seasonality  \n",
            "0                 Rainy                  0               29.69      Autumn  \n",
            "1                 Sunny                  0               66.16      Autumn  \n",
            "2                 Sunny                  1               31.32      Summer  \n",
            "3                Cloudy                  1               34.74      Autumn  \n",
            "4                 Sunny                  0               68.95      Summer  \n",
            "...                 ...                ...                 ...         ...  \n",
            "73591             Sunny                  0               35.46      Summer  \n",
            "73593             Sunny                  0               59.04      Autumn  \n",
            "73596             Sunny                  1               66.70      Winter  \n",
            "73598            Cloudy                  0               65.54      Summer  \n",
            "73599            Cloudy                  0               42.84      Spring  \n",
            "\n",
            "[73318 rows x 15 columns]\n"
          ]
        }
      ]
    },
    {
      "cell_type": "code",
      "source": [
        "# Selecting only numeric columns\n",
        "numeric_cols = data.select_dtypes(include=[np.number])\n",
        "\n",
        "# Calculating Q1, Q3, and IQR\n",
        "Q1 = numeric_cols.quantile(0.25)\n",
        "Q3 = numeric_cols.quantile(0.75)\n",
        "IQR = Q3 - Q1\n",
        "\n",
        "# Identifying outliers\n",
        "outliers = ((numeric_cols < (Q1 - 1.5 * IQR)) | (numeric_cols > (Q3 + 1.5 * IQR))).any(axis=1)\n",
        "\n",
        "# Removing outliers from the original dataset\n",
        "data = data[~outliers]\n"
      ],
      "metadata": {
        "id": "tSXbx7K29Mcv"
      },
      "execution_count": 50,
      "outputs": []
    },
    {
      "cell_type": "code",
      "source": [
        "import numpy as np\n",
        "from scipy import stats\n",
        "\n",
        "# Extract only numeric columns\n",
        "numeric_data = data._get_numeric_data()\n",
        "\n",
        "# Compute Z-scores\n",
        "z_scores = np.abs(stats.zscore(numeric_data))\n",
        "\n",
        "# Remove rows where any column has a Z-score > 3 (outliers)\n",
        "data = data[(z_scores < 3).all(axis=1)]\n"
      ],
      "metadata": {
        "id": "aq-fzASx9edw"
      },
      "execution_count": 51,
      "outputs": []
    },
    {
      "cell_type": "code",
      "source": [
        "# Check unique values in 'Category' and 'Weather Condition' before correction\n",
        "print(\"Unique values in 'Category' before correction:\")\n",
        "print(data['Category'].unique())\n",
        "\n",
        "print(\"Unique values in 'Weather Condition' before correction:\")\n",
        "print(data['Weather Condition'].unique())"
      ],
      "metadata": {
        "colab": {
          "base_uri": "https://localhost:8080/"
        },
        "id": "gt5W-GjfA64V",
        "outputId": "082086de-c26b-4e1b-fe3a-f71973ec381c"
      },
      "execution_count": 54,
      "outputs": [
        {
          "output_type": "stream",
          "name": "stdout",
          "text": [
            "Unique values in 'Category' before correction:\n",
            "['Groceries' 'Toys' 'Electronics' 'Furniture' 'Clothing']\n",
            "Unique values in 'Weather Condition' before correction:\n",
            "['Rainy' 'Sunny' 'Cloudy' 'Snowy']\n"
          ]
        }
      ]
    },
    {
      "cell_type": "code",
      "source": [
        "# Correcting spelling errors in 'Category' and 'Weather Condition' columns\n",
        "data['Category'] = data['Category'].replace({'Mnufacturing': 'Manufacturing', 'Wearher': 'Weather'})\n",
        "data['Weather Condition'] = data['Weather Condition'].replace({'Sunnyy': 'Sunny', 'Rainny': 'Rain'})\n"
      ],
      "metadata": {
        "id": "T3uTPyMkA_pv"
      },
      "execution_count": 55,
      "outputs": []
    },
    {
      "cell_type": "code",
      "source": [
        "# Check unique values in 'Category' and 'Weather Condition' after correction\n",
        "print(\"Unique values in 'Category' after correction:\")\n",
        "print(data['Category'].unique())\n",
        "\n",
        "print(\"Unique values in 'Weather Condition' after correction:\")\n",
        "print(data['Weather Condition'].unique())"
      ],
      "metadata": {
        "colab": {
          "base_uri": "https://localhost:8080/"
        },
        "id": "34W5cUrkBA26",
        "outputId": "1699a248-113c-4684-a3a4-8e5b96caf989"
      },
      "execution_count": 56,
      "outputs": [
        {
          "output_type": "stream",
          "name": "stdout",
          "text": [
            "Unique values in 'Category' after correction:\n",
            "['Groceries' 'Toys' 'Electronics' 'Furniture' 'Clothing']\n",
            "Unique values in 'Weather Condition' after correction:\n",
            "['Rainy' 'Sunny' 'Cloudy' 'Snowy']\n"
          ]
        }
      ]
    },
    {
      "cell_type": "code",
      "source": [
        "# Check for negative sales values\n",
        "negative_sales = data[data['Units Sold'] < 0]\n",
        "print(\"Negative Sales Values:\")\n",
        "print(negative_sales)"
      ],
      "metadata": {
        "colab": {
          "base_uri": "https://localhost:8080/"
        },
        "id": "F7i5lYfJBPN3",
        "outputId": "d69d2a3a-9e04-49be-b77d-5983c4db56d6"
      },
      "execution_count": 59,
      "outputs": [
        {
          "output_type": "stream",
          "name": "stdout",
          "text": [
            "Negative Sales Values:\n",
            "Empty DataFrame\n",
            "Columns: [Date, Store ID, Product ID, Category, Region, Inventory Level, Units Sold, Units Ordered, Demand Forecast, Price, Discount, Weather Condition, Holiday/Promotion, Competitor Pricing, Seasonality]\n",
            "Index: []\n"
          ]
        }
      ]
    },
    {
      "cell_type": "code",
      "source": [
        "# Identify records where units sold exceed inventory level\n",
        "logical_errors = data[data['Units Sold'] > data['Inventory Level']]\n",
        "print(\"Records with Units Sold exceeding Inventory Level:\")\n",
        "print(logical_errors)"
      ],
      "metadata": {
        "colab": {
          "base_uri": "https://localhost:8080/"
        },
        "id": "JFt4jnqyCSf6",
        "outputId": "eadafca3-db4a-4e43-ea69-b9838014c0ea"
      },
      "execution_count": 60,
      "outputs": [
        {
          "output_type": "stream",
          "name": "stdout",
          "text": [
            "Records with Units Sold exceeding Inventory Level:\n",
            "Empty DataFrame\n",
            "Columns: [Date, Store ID, Product ID, Category, Region, Inventory Level, Units Sold, Units Ordered, Demand Forecast, Price, Discount, Weather Condition, Holiday/Promotion, Competitor Pricing, Seasonality]\n",
            "Index: []\n"
          ]
        }
      ]
    },
    {
      "cell_type": "code",
      "source": [
        "# Saving the cleaned dataset as a CSV file\n",
        "data.to_csv('CleanedRetailSC_dataset.csv', index=False)\n",
        "\n",
        "# Downloading the saved CSV file\n",
        "from google.colab import files\n",
        "files.download('CleanedRetailSC_dataset.csv')"
      ],
      "metadata": {
        "colab": {
          "base_uri": "https://localhost:8080/",
          "height": 17
        },
        "id": "JjwVKWDcCmf2",
        "outputId": "5c012e8c-9e45-412c-a88d-cf05151a500e"
      },
      "execution_count": 61,
      "outputs": [
        {
          "output_type": "display_data",
          "data": {
            "text/plain": [
              "<IPython.core.display.Javascript object>"
            ],
            "application/javascript": [
              "\n",
              "    async function download(id, filename, size) {\n",
              "      if (!google.colab.kernel.accessAllowed) {\n",
              "        return;\n",
              "      }\n",
              "      const div = document.createElement('div');\n",
              "      const label = document.createElement('label');\n",
              "      label.textContent = `Downloading \"${filename}\": `;\n",
              "      div.appendChild(label);\n",
              "      const progress = document.createElement('progress');\n",
              "      progress.max = size;\n",
              "      div.appendChild(progress);\n",
              "      document.body.appendChild(div);\n",
              "\n",
              "      const buffers = [];\n",
              "      let downloaded = 0;\n",
              "\n",
              "      const channel = await google.colab.kernel.comms.open(id);\n",
              "      // Send a message to notify the kernel that we're ready.\n",
              "      channel.send({})\n",
              "\n",
              "      for await (const message of channel.messages) {\n",
              "        // Send a message to notify the kernel that we're ready.\n",
              "        channel.send({})\n",
              "        if (message.buffers) {\n",
              "          for (const buffer of message.buffers) {\n",
              "            buffers.push(buffer);\n",
              "            downloaded += buffer.byteLength;\n",
              "            progress.value = downloaded;\n",
              "          }\n",
              "        }\n",
              "      }\n",
              "      const blob = new Blob(buffers, {type: 'application/binary'});\n",
              "      const a = document.createElement('a');\n",
              "      a.href = window.URL.createObjectURL(blob);\n",
              "      a.download = filename;\n",
              "      div.appendChild(a);\n",
              "      a.click();\n",
              "      div.remove();\n",
              "    }\n",
              "  "
            ]
          },
          "metadata": {}
        },
        {
          "output_type": "display_data",
          "data": {
            "text/plain": [
              "<IPython.core.display.Javascript object>"
            ],
            "application/javascript": [
              "download(\"download_d8444b41-598c-4242-8d74-98d3edbf5e7d\", \"CleanedRetailSC_dataset.csv\", 5872220)"
            ]
          },
          "metadata": {}
        }
      ]
    }
  ]
}
